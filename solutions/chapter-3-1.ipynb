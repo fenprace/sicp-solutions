{
 "cells": [
  {
   "cell_type": "markdown",
   "id": "3e9d2806-d296-40a1-8868-a8e23575815a",
   "metadata": {},
   "source": [
    "# 3.1 Assignment and Local State\n",
    "\n",
    "## 3.1.1 Local State Variables\n",
    "\n",
    "### Exercise 3.1\n",
    "An _accumulator_ is a procedure that is called repeatedly with a single numeric argument and accumulates its arguments into a sum. Each time it is called, it returns the currently accumulated sum. Write a procedure `make-accumulator` that generates accumulators, each maintaining an independent sum. The input to `make-accumulator` should specify the initial value of the sum; for example\n",
    "\n",
    "```scheme\n",
    "(define A (make-accumulator 5)) (A 10)\n",
    "15\n",
    "(A 10)\n",
    "25\n",
    "```\n",
    "\n",
    "----"
   ]
  },
  {
   "cell_type": "code",
   "execution_count": 3,
   "id": "4f096d4a-27e8-4a3a-9bb3-d308ef5b4dc7",
   "metadata": {
    "collapsed": true,
    "jupyter": {
     "outputs_hidden": true,
     "source_hidden": true
    },
    "tags": []
   },
   "outputs": [
    {
     "data": {
      "text/html": [
       "<code>15</code>"
      ],
      "text/plain": [
       "15"
      ]
     },
     "execution_count": 3,
     "metadata": {},
     "output_type": "execute_result"
    }
   ],
   "source": [
    "(define (make-accumulator x)\n",
    "  (lambda (y) \n",
    "    (begin\n",
    "      (set! x (+ x y))\n",
    "      x)))\n",
    "\n",
    ";; Validate\n",
    "(define A (make-accumulator 5))\n",
    "(A 10)"
   ]
  },
  {
   "cell_type": "markdown",
   "id": "ee575bbf-8702-4adb-b359-ae270ab48b5b",
   "metadata": {},
   "source": [
    "### Exercise 3.2\n",
    "In software-testing applications, it is useful to be able to count the number of times a given procedure is called during the course of a computation. Write a procedure `make-monitored` that takes as input a procedure, `f`, that itself takes one input. The result returned by `make- monitored` is a third procedure, say `mf`, that keeps track of the number of times it has been called by maintaining an internal counter. If the input to `mf` is the special symbol `how-many-calls?`, then `mf` returns the value of the counter. If the input is the special symbol `reset-count`, then `mf` re- sets the counter to zero. For any other input, `mf` returns the result of calling `f` on that input and increments the counter. For instance, we could make a monitored version of the sqrt procedure:\n",
    "\n",
    "```scheme\n",
    "(define s (make-monitored sqrt)) (s 100)\n",
    "10\n",
    "(s 'how-many-calls?)\n",
    "1\n",
    "```\n",
    "\n",
    "----"
   ]
  },
  {
   "cell_type": "code",
   "execution_count": 6,
   "id": "fbfedaa8-c349-4756-9936-f2e194c50202",
   "metadata": {
    "collapsed": true,
    "jupyter": {
     "outputs_hidden": true,
     "source_hidden": true
    },
    "tags": []
   },
   "outputs": [
    {
     "data": {
      "text/html": [
       "<code>0</code>"
      ],
      "text/plain": [
       "0"
      ]
     },
     "execution_count": 6,
     "metadata": {},
     "output_type": "execute_result"
    }
   ],
   "source": [
    "(define (make-monitored f)\n",
    "  (let ([times 0])\n",
    "    (lambda (in) \n",
    "      (cond [(eq? in 'how-many-calls?) times]\n",
    "            [(eq? in 'reset-count) (set! times 0)]\n",
    "            [else (set! times (+ times 1)) (f in)]))))\n",
    "\n",
    ";; Validate\n",
    "(define s (make-monitored (lambda (n) (+ n 1))))\n",
    "(s 1)\n",
    "(s 2)\n",
    "(s 'how-many-calls?)\n",
    "(s 'reset-count)\n",
    "(s 'how-many-calls?)"
   ]
  },
  {
   "cell_type": "markdown",
   "id": "8b2c91c6-473a-4bcd-8bea-d1cf0bca0dda",
   "metadata": {
    "tags": []
   },
   "source": [
    "### Exercise 3.3\n",
    "\n",
    "Modify the `make-account` procedure so that\n",
    "it creates password-protected accounts. That is, `make-account` should take a symbol as an additional argument, as in\n",
    "\n",
    "```scheme\n",
    "(define acc (make-account 100 'secret-password))\n",
    "```\n",
    "\n",
    "The resulting account object should process a request only if it is accompanied by the password with which the account was created, and should otherwise return a complaint:\n",
    "\n",
    "```scheme\n",
    "((acc 'secret-password 'withdraw) 40) 60\n",
    "((acc 'some-other-password 'deposit) 50) \"Incorrect password\"\n",
    "```\n",
    "\n",
    "----"
   ]
  },
  {
   "cell_type": "code",
   "execution_count": 19,
   "id": "37cb99cd-00e6-41ad-ab99-34a363a94949",
   "metadata": {
    "collapsed": true,
    "jupyter": {
     "outputs_hidden": true,
     "source_hidden": true
    },
    "tags": []
   },
   "outputs": [
    {
     "data": {
      "text/html": [
       "<code>\"Incorrect password\"</code>"
      ],
      "text/plain": [
       "\"Incorrect password\""
      ]
     },
     "execution_count": 19,
     "metadata": {},
     "output_type": "execute_result"
    }
   ],
   "source": [
    "(define (make-account balance password)\n",
    "  (define (withdraw amount p)\n",
    "    (cond [(not (eq? p password)) \"Incorrect password\"]\n",
    "          [(> amount balance) \"Insufficient funds\"]\n",
    "          [else (set! balance (- balance amount)) balance]))\n",
    "\n",
    "  (define (deposit amount p)\n",
    "    (cond [(not (eq? p password)) \"Incorrect password\"]\n",
    "          [else (set! balance (+ balance amount)) balance]))\n",
    "  \n",
    "  (define (dispatch p m)\n",
    "    (cond [(eq? m 'withdraw) (lambda (n) (withdraw n p))]\n",
    "          [(eq? m 'deposit) (lambda (n) (deposit n p))]\n",
    "          [else (error \"Unknown request: MAKE-ACCOUNT\" m)]))\n",
    "\n",
    "  dispatch)\n",
    "\n",
    ";; Validate\n",
    "(define acc (make-account 100 'secret-password))\n",
    "((acc 'secret-password 'withdraw) 40) 60\n",
    "((acc 'some-other-password 'deposit) 50)"
   ]
  },
  {
   "cell_type": "markdown",
   "id": "e7201333-f0b9-41cb-afea-f5dedf74afbb",
   "metadata": {},
   "source": [
    "### Exercise 3.4\n",
    "\n",
    "Modify the make-account procedure of [Exercise 3.3](#Exercise-3.3) by adding another local state variable so that, if an account is accessed more than seven consecutive times with an incorrect password, it invokes the procedure `call-the-cops`.\n",
    "\n",
    "----"
   ]
  },
  {
   "cell_type": "code",
   "execution_count": 29,
   "id": "ae18d5b6-6697-41ad-b638-1e134f328afd",
   "metadata": {
    "collapsed": true,
    "jupyter": {
     "outputs_hidden": true,
     "source_hidden": true
    },
    "tags": []
   },
   "outputs": [
    {
     "data": {
      "text/html": [
       "<code>'call-the-cops</code>"
      ],
      "text/plain": [
       "'call-the-cops"
      ]
     },
     "execution_count": 29,
     "metadata": {},
     "output_type": "execute_result"
    }
   ],
   "source": [
    "(define (make-account balance password)\n",
    "  (let ([times 0])\n",
    "    (define (validate p f)\n",
    "       (cond [(eq? p password) (set! times 0) f]\n",
    "             [(> times 6) 'call-the-cops]\n",
    "             [else (set! times (+ times 1)) \"Incorrect password\"]))\n",
    "    \n",
    "    (define (withdraw amount)\n",
    "      (cond [(> amount balance) \"Insufficient funds\"]\n",
    "            [else (set! balance (- balance amount)) balance]))\n",
    "    \n",
    "    (define (deposit amount)\n",
    "      (set! balance (+ balance amount)) balance)\n",
    "    \n",
    "    (define (dispatch p m)\n",
    "      (cond [(eq? m 'withdraw) (lambda (n) (validate p (lambda () (withdraw n))))]\n",
    "            [(eq? m 'deposit) (lambda (n) (validate p (lambda () (deposit n))))]\n",
    "            [else (error \"Unknown request: MAKE-ACCOUNT\" m)]))\n",
    "    dispatch))\n",
    "\n",
    ";; Validate\n",
    "(define acc (make-account 100 'secret-password))\n",
    "((acc 'some-other-password 'deposit) 50)\n",
    "((acc 'secret-password 'withdraw) 40) 60\n",
    "((acc 'some-other-password 'deposit) 50)\n",
    "((acc 'some-other-password 'deposit) 50)\n",
    "((acc 'some-other-password 'deposit) 50)\n",
    "((acc 'some-other-password 'deposit) 50)\n",
    "((acc 'some-other-password 'deposit) 50)\n",
    "((acc 'some-other-password 'deposit) 50)\n",
    "((acc 'some-other-password 'deposit) 50)\n",
    "((acc 'some-other-password 'deposit) 50)"
   ]
  },
  {
   "cell_type": "markdown",
   "id": "ef680a5d-f235-4fc9-a8fc-50f099042841",
   "metadata": {
    "jupyter": {
     "outputs_hidden": true
    },
    "tags": []
   },
   "source": [
    "## 3.1.2 The Benefits of Introducing Assignment"
   ]
  },
  {
   "cell_type": "code",
   "execution_count": null,
   "id": "956c09f3-5c26-4df7-bbd9-2a470669e702",
   "metadata": {},
   "outputs": [],
   "source": []
  }
 ],
 "metadata": {
  "kernelspec": {
   "display_name": "Racket",
   "language": "racket",
   "name": "racket"
  },
  "language_info": {
   "codemirror_mode": "scheme",
   "file_extension": ".rkt",
   "mimetype": "text/x-racket",
   "name": "Racket",
   "pygments_lexer": "racket",
   "version": "7.9"
  }
 },
 "nbformat": 4,
 "nbformat_minor": 5
}
